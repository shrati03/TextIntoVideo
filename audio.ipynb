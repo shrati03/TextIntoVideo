{
 "cells": [
  {
   "cell_type": "code",
   "execution_count": 1,
   "metadata": {},
   "outputs": [],
   "source": [
    "from gtts import gTTS\n",
    "from googletrans import Translator\n",
    "import pandas as pd\n",
    "import numpy as np"
   ]
  },
  {
   "cell_type": "code",
   "execution_count": 2,
   "metadata": {},
   "outputs": [],
   "source": [
    "prompts = pd.read_csv(\"./Phrases.csv\")"
   ]
  },
  {
   "cell_type": "code",
   "execution_count": 3,
   "metadata": {},
   "outputs": [],
   "source": [
    "paragraph = \"\"\n",
    "for i in range(prompts.shape[0]):\n",
    "    paragraph += prompts[\"Phrase\"][i]\n",
    "    paragraph += \". \""
   ]
  },
  {
   "cell_type": "code",
   "execution_count": 4,
   "metadata": {},
   "outputs": [],
   "source": [
    "# Define the target language and the text to be translated\n",
    "target_language = \"hi\"\n",
    "text = paragraph"
   ]
  },
  {
   "cell_type": "code",
   "execution_count": 5,
   "metadata": {},
   "outputs": [
    {
     "data": {
      "text/plain": [
       "'World Health Organization WHO has released the outcome document of first WHO Traditional Medicine Global Summit 2023 in form of Gujarat Declaration. The declaration reaffirmed global commitments towards indigenous knowledges biodiversity and traditional complementary and integrative medicine. WHO underlined that the application of rigorous scientific methods is needed to better understand assess and where appropriate apply more holistic contextspecific complex and personalized approaches for health and wellbeing for all. It reiterates that India as host of the WHO Global Traditional Medicine Centre at Jamnagar Gujarat has an important role in scaling up WHOs capacities to support member states and stakeholders in taking forward the summit action agenda and other relevant priorities. The action points of two day WHO Traditional Medicine Global Summit 2023 held at Gandhinagar Gujarat are based on the evidence discussions and outcomes presented at the Summit. Deliberation were done on varied topics like Health and wellbeing of people and the planet research and evidence universal health coverage primary health care and health systems Data  routine information systems digital health frontiers biodiversity and sustainability human rights equity and ethics. Union minister of Ayush Shri Sarbananda Sonowal had said Gujarat declaration is testimony of our  prime minister Shri Narendra Modis commitment to promote our ancient knowledge of Traditional Medicine system. Through collaborative efforts and sustainable practices we can ensure a healthier future for generations to come. During the WHO traditional Medicine global Summit Director General of the World Health Organization Dr Tedros Adhanom Ghebreyesus had said that Gujarat Declaration will serve as a catalyst to harness the potential of traditional medicine through the lens of science and will focus on the integration of traditional medicines in national health systems and help unlock the power of traditional medicine. Gujarat declaration talks about scaling up efforts to further implement evidencebased TCIM Traditional complimentary integrative medicine interventions and approaches in support of the goal of universal health coverage UHC and all healthrelated Sustainable Development Goals SDGs. It states the role of multiregional multidisciplinary and multistakeholder collaborations demonstrated at the Global Summit through the WHO GCTM that is aligned with and complementary to the work of WHO major offices to maximize evidence based benefits of TCIM in global health. Support the evidencebased integration in national health policies and systems based on the highest quality research. Accelerate the production regulation and formal utilization of scientifically proven TCIM products and practices. Advance policies that promote standardized TCIM documentation including through expanded and accelerated use of the WHO International Classification of Diseases ICD11 to enable integration of evidence and data collection on TCIM in a standardized way within routine health information systems. Establish a global network of TCIM reference clinical centres that can routinely undertake standardized data collection and monitoring based on WHO ICD11 coding of the implementation. The highlight of summit was how to enable the appropriate development and application of digital health technologies and artificial intelligence AI in particular to advance digital health resources on TCIM for peoples health and wellbeing. It mentions that actions should be promoted and taken at all levels to safeguard restore and sustainably manage biodiversity and to ensure the fair and equitable sharing of the benefits arising from the use of biodiversity resources related genetic material and Indigenous knowledges. Fully recognize respect and protect the rights of Indigenous Peoples as provided in the UN Declaration on the Rights of Indigenous Peoples. Incorporate ethical methods and processes in TCIM research and practice. The First global summit on Traditional Medicine was organised by the World Health Organization WHO and cohosted by the Ministry of Ayush from August 1718 2023 at Gandhinagar Gujarat. '"
      ]
     },
     "execution_count": 5,
     "metadata": {},
     "output_type": "execute_result"
    }
   ],
   "source": [
    "text"
   ]
  },
  {
   "cell_type": "code",
   "execution_count": 6,
   "metadata": {},
   "outputs": [],
   "source": [
    "trans_list = []\n",
    "# Initialize the Translator object\n",
    "translator = Translator()\n",
    "\n",
    "# Detect the language of the text\n",
    "detected_language = translator.detect(paragraph).lang\n",
    "\n",
    "for i in range(prompts.shape[0]):\n",
    "    # Translate the text to the target language\n",
    "    translated_text = translator.translate(\n",
    "        paragraph, src=detected_language, dest=target_language\n",
    "    )\n",
    "\n",
    "# Get the translated text\n",
    "translated_text_text = translated_text.text"
   ]
  },
  {
   "cell_type": "code",
   "execution_count": 7,
   "metadata": {},
   "outputs": [
    {
     "name": "stdout",
     "output_type": "stream",
     "text": [
      "Audio saved as 'audio.mp3'\n"
     ]
    }
   ],
   "source": [
    "# Print the translated text\n",
    "# print(\"Translated Text (Target Language):\", translated_text_text)\n",
    "\n",
    "# Create a gTTS object for the translated text and save it as an audio file\n",
    "speech = gTTS(text=translated_text_text, lang=target_language, slow=False)\n",
    "\n",
    "speech.save(\"./audio.mp3\")\n",
    "\n",
    "# Print a message to confirm that the audio file has been saved\n",
    "print(\"Audio saved as 'audio.mp3'\")"
   ]
  }
 ],
 "metadata": {
  "kernelspec": {
   "display_name": "Python 3",
   "language": "python",
   "name": "python3"
  },
  "language_info": {
   "codemirror_mode": {
    "name": "ipython",
    "version": 3
   },
   "file_extension": ".py",
   "mimetype": "text/x-python",
   "name": "python",
   "nbconvert_exporter": "python",
   "pygments_lexer": "ipython3",
   "version": "3.11.4"
  },
  "orig_nbformat": 4
 },
 "nbformat": 4,
 "nbformat_minor": 2
}
