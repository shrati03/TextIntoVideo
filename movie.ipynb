{
 "cells": [
  {
   "cell_type": "code",
   "execution_count": 1,
   "metadata": {},
   "outputs": [],
   "source": [
    "import os\n",
    "from moviepy.editor import (\n",
    "    VideoFileClip,\n",
    "    clips_array,\n",
    "    TextClip,\n",
    "    CompositeVideoClip,\n",
    "    AudioFileClip,\n",
    "    ImageClip,\n",
    "    concatenate_videoclips,\n",
    ")\n",
    "from moviepy.video.io.ffmpeg_tools import ffmpeg_extract_subclip\n",
    "import pandas as pd\n",
    "\n",
    "os.environ[\n",
    "    \"IMAGEMAGICK_BINARY\"\n",
    "] = r\"C:\\Program Files\\ImageMagick-7.1.1-Q16-HDRI\\magick.exe\"\n",
    "from moviepy.config import change_settings\n",
    "\n",
    "# Specify the path to the ImageMagick binary (replace with your path)\n",
    "change_settings(\n",
    "    {\"IMAGEMAGICK_BINARY\": r\"C:\\Program Files\\ImageMagick-7.1.1-Q16-HDRI\\magick.exe\"}\n",
    ")"
   ]
  },
  {
   "cell_type": "code",
   "execution_count": 2,
   "metadata": {},
   "outputs": [],
   "source": [
    "phrases = pd.read_csv(\"./Phrases.csv\")"
   ]
  },
  {
   "cell_type": "code",
   "execution_count": 3,
   "metadata": {},
   "outputs": [],
   "source": [
    "# Define the input frames directory, audio file, and caption text\n",
    "frames_directory = \"Frames\\Frame2\"  # Replace with the path to your frames\n",
    "audio_file = \"./Audio.mp3\"  # Replace with the path to your audio file\n",
    "captions = list(phrases[\"Phrase\"])  # Replace with your captions"
   ]
  },
  {
   "cell_type": "code",
   "execution_count": 4,
   "metadata": {},
   "outputs": [],
   "source": [
    "refresh_directions = [\n",
    "    \"moving left-left\",\n",
    "    \"moving left\",\n",
    "    \"moving up-left\",\n",
    "    \"moving up\",\n",
    "    \"moving forward\",\n",
    "    \"moving up-right\",\n",
    "    \"moving right\",\n",
    "    \"moving right-right\",\n",
    "    \"moving down-right\",\n",
    "    \"moving down\",\n",
    "    \"moving backward\",\n",
    "    \"moving down-left\",\n",
    "]\n",
    "\n",
    "directions = {\n",
    "    \"moving left\": 1,\n",
    "    \"moving right\": 2,\n",
    "    \"moving up\": 3,\n",
    "    \"moving down\": 4,\n",
    "    \"moving forward\": 5,\n",
    "    \"moving backward\": 6,\n",
    "    \"moving up-left\": 7,\n",
    "    \"moving up-right\": 8,\n",
    "    \"moving down-left\": 9,\n",
    "    \"moving down-right\": 10,\n",
    "    \"moving left-left\": 11,\n",
    "    \"moving right-right\": 12,\n",
    "}"
   ]
  },
  {
   "cell_type": "code",
   "execution_count": 5,
   "metadata": {},
   "outputs": [],
   "source": [
    "len_words = [len(sentence.split()) for sentence in phrases[\"Phrase\"]]\n",
    "second = 2\n",
    "frame_persistance_time = [(len_word / second) for len_word in len_words]\n",
    "fps = 24\n",
    "num_frames = [\n",
    "    int(frame_persistance_time[i] * fps) for i in range(len(frame_persistance_time))\n",
    "]\n",
    "num_frames_per_direction = [\n",
    "    num_frame / len(refresh_directions) for num_frame in num_frames\n",
    "]"
   ]
  },
  {
   "cell_type": "code",
   "execution_count": 6,
   "metadata": {},
   "outputs": [],
   "source": [
    "image_files = []"
   ]
  },
  {
   "cell_type": "code",
   "execution_count": 7,
   "metadata": {},
   "outputs": [],
   "source": [
    "k = 0\n",
    "for i in range(phrases.shape[0]):\n",
    "    for j in range(int(num_frames_per_direction[k])):\n",
    "        a = (-1) ** j\n",
    "        refresh_directions = refresh_directions[::a]\n",
    "        for direction in refresh_directions:\n",
    "            image_files.append(\n",
    "                f\"Frames\\\\Frame2\\\\{i+1}_{j+1}_{directions[direction]}.png\"\n",
    "            )\n",
    "    k += 1"
   ]
  },
  {
   "cell_type": "code",
   "execution_count": 8,
   "metadata": {},
   "outputs": [
    {
     "data": {
      "text/plain": [
       "7212"
      ]
     },
     "execution_count": 8,
     "metadata": {},
     "output_type": "execute_result"
    }
   ],
   "source": [
    "len(image_files)"
   ]
  },
  {
   "cell_type": "code",
   "execution_count": 9,
   "metadata": {},
   "outputs": [],
   "source": [
    "# Sort the image files based on their filenames\n",
    "# image_files.sort()\n",
    "\n",
    "# Load the audio file\n",
    "audio = AudioFileClip(audio_file)\n",
    "\n",
    "# Initialize an empty list to store caption clips\n",
    "caption_clips = []"
   ]
  },
  {
   "cell_type": "code",
   "execution_count": 10,
   "metadata": {},
   "outputs": [],
   "source": [
    "# Create caption clips\n",
    "for caption in captions:\n",
    "    caption_clip = TextClip(caption, fontsize=20, color=\"white\", bg_color=\"black\")\n",
    "    caption_clip = caption_clip.set_position((\"left\", \"bottom\"))\n",
    "    caption_clips.append(caption_clip)\n",
    "\n",
    "# Calculate the duration for each caption based on the total duration and the number of captions\n",
    "duration_per_caption = audio.duration / len(captions)\n",
    "\n",
    "# Create a sequence of caption clips with the correct timing\n",
    "sequence_clips = []\n",
    "start_time = 0\n",
    "\n",
    "for caption_clip in caption_clips:\n",
    "    caption_clip = caption_clip.set_duration(duration_per_caption).set_start(start_time)\n",
    "    sequence_clips.append(caption_clip)\n",
    "    start_time += duration_per_caption\n",
    "\n",
    "# Create a CompositeVideoClip from the sequence of caption clips\n",
    "captions_composite = CompositeVideoClip(sequence_clips, size=(512, 512))\n",
    "\n",
    "# Set the audio of the captions_composite to match the audio_clip\n",
    "captions_composite = captions_composite.set_audio(audio)"
   ]
  },
  {
   "cell_type": "code",
   "execution_count": 11,
   "metadata": {},
   "outputs": [],
   "source": [
    "# Create a list of image frames as video frames\n",
    "video_frames = [\n",
    "    ImageClip(img, duration=audio.duration / len(image_files)) for img in image_files\n",
    "]"
   ]
  },
  {
   "cell_type": "code",
   "execution_count": 14,
   "metadata": {},
   "outputs": [
    {
     "name": "stdout",
     "output_type": "stream",
     "text": [
      "Moviepy - Building video GenesisAI_prototype_lv2_uni.mp4.\n",
      "MoviePy - Writing audio in GenesisAI_prototype_lv2_uniTEMP_MPY_wvf_snd.mp3\n"
     ]
    },
    {
     "name": "stderr",
     "output_type": "stream",
     "text": [
      "                                                                      \r"
     ]
    },
    {
     "name": "stdout",
     "output_type": "stream",
     "text": [
      "MoviePy - Done.\n",
      "Moviepy - Writing video GenesisAI_prototype_lv2_uni.mp4\n",
      "\n"
     ]
    },
    {
     "name": "stderr",
     "output_type": "stream",
     "text": [
      "                                                              \r"
     ]
    },
    {
     "name": "stdout",
     "output_type": "stream",
     "text": [
      "Moviepy - Done !\n",
      "Moviepy - video ready GenesisAI_prototype_lv2_uni.mp4\n"
     ]
    }
   ],
   "source": [
    "vf_concatinated = concatenate_videoclips(video_frames, method=\"compose\")\n",
    "\n",
    "final_video = CompositeVideoClip([vf_concatinated, captions_composite])\n",
    "\n",
    "final_video = final_video.set_duration(audio.duration)\n",
    "\n",
    "final_video = final_video.set_audio(audio)\n",
    "\n",
    "fps = 3\n",
    "\n",
    "final_video.write_videofile(\"GenesisAI_prototype_lv2_uni.mp4\", codec=\"libx264\", fps=fps)"
   ]
  }
 ],
 "metadata": {
  "kernelspec": {
   "display_name": "Python 3",
   "language": "python",
   "name": "python3"
  },
  "language_info": {
   "codemirror_mode": {
    "name": "ipython",
    "version": 3
   },
   "file_extension": ".py",
   "mimetype": "text/x-python",
   "name": "python",
   "nbconvert_exporter": "python",
   "pygments_lexer": "ipython3",
   "version": "3.11.4"
  },
  "orig_nbformat": 4
 },
 "nbformat": 4,
 "nbformat_minor": 2
}
