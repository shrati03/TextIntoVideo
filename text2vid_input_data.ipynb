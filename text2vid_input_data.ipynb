{
 "cells": [
  {
   "cell_type": "code",
   "execution_count": 1,
   "metadata": {},
   "outputs": [],
   "source": [
    "import pandas as pd\n",
    "import numpy as np\n",
    "import re"
   ]
  },
  {
   "cell_type": "code",
   "execution_count": 2,
   "metadata": {},
   "outputs": [],
   "source": [
    "# Read the data from the csv file\n",
    "df = pd.read_csv(\"./scraped_data.csv\")"
   ]
  },
  {
   "cell_type": "code",
   "execution_count": 3,
   "metadata": {},
   "outputs": [
    {
     "name": "stdout",
     "output_type": "stream",
     "text": [
      "                                           Paragraph\n",
      "0  World Health Organization (WHO) has released t...\n",
      "1  It reiterates that India as host of the WHO Gl...\n",
      "2  The action points of two day WHO Traditional M...\n",
      "3  Union minister of Ayush Shri Sarbananda Sonowa...\n",
      "4  During the WHO traditional Medicine global Sum...\n"
     ]
    }
   ],
   "source": [
    "print(df.head())"
   ]
  },
  {
   "cell_type": "code",
   "execution_count": 4,
   "metadata": {},
   "outputs": [],
   "source": [
    "for i in range(df.shape[0]):\n",
    "    string = df[\"Paragraph\"][i]\n",
    "    string = string.replace(\"\\xa0\", \" \")\n",
    "    df[\"Paragraph\"][i] = string"
   ]
  },
  {
   "cell_type": "code",
   "execution_count": 5,
   "metadata": {},
   "outputs": [
    {
     "data": {
      "text/plain": [
       "'It reiterates that India as host of the WHO Global Traditional Medicine Centre at Jamnagar, Gujarat has an important role in scaling up WHO’s capacities to support member states and stakeholders in taking forward the summit action agenda and other relevant priorities.'"
      ]
     },
     "execution_count": 5,
     "metadata": {},
     "output_type": "execute_result"
    }
   ],
   "source": [
    "df[\"Paragraph\"][1]"
   ]
  },
  {
   "cell_type": "code",
   "execution_count": 6,
   "metadata": {},
   "outputs": [],
   "source": [
    "short_para_list = []\n",
    "for i in range(df.shape[0]):\n",
    "    for short_para in df[\"Paragraph\"][i].split(\". \"):\n",
    "        short_para_list.append(short_para)"
   ]
  },
  {
   "cell_type": "code",
   "execution_count": 7,
   "metadata": {},
   "outputs": [],
   "source": [
    "short_para_list = [re.sub(r\"[^\\w\\s]\", \"\", x) for x in short_para_list]\n",
    "short_para_list = [x for x in short_para_list if x != \"\"]"
   ]
  },
  {
   "cell_type": "code",
   "execution_count": 8,
   "metadata": {},
   "outputs": [],
   "source": [
    "new_df = pd.DataFrame(short_para_list, columns=[\"Phrase\"])\n",
    "new_df.to_csv(\"./Phrases.csv\", index=False)"
   ]
  }
 ],
 "metadata": {
  "kernelspec": {
   "display_name": "Python 3",
   "language": "python",
   "name": "python3"
  },
  "language_info": {
   "codemirror_mode": {
    "name": "ipython",
    "version": 3
   },
   "file_extension": ".py",
   "mimetype": "text/x-python",
   "name": "python",
   "nbconvert_exporter": "python",
   "pygments_lexer": "ipython3",
   "version": "3.11.4"
  },
  "orig_nbformat": 4
 },
 "nbformat": 4,
 "nbformat_minor": 2
}
