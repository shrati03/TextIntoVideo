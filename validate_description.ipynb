{
 "cells": [
  {
   "cell_type": "code",
   "execution_count": 1,
   "metadata": {},
   "outputs": [],
   "source": [
    "import pandas as pd\n",
    "import numpy as np"
   ]
  },
  {
   "cell_type": "code",
   "execution_count": 2,
   "metadata": {},
   "outputs": [],
   "source": [
    "description = pd.read_csv(\"./descriptions.csv\")"
   ]
  },
  {
   "cell_type": "code",
   "execution_count": 3,
   "metadata": {},
   "outputs": [
    {
     "name": "stdout",
     "output_type": "stream",
     "text": [
      "36\n"
     ]
    }
   ],
   "source": [
    "count = 0\n",
    "for i in range(description.shape[0]):\n",
    "    if len(description[\"Description\"][i].split()) <= 77:\n",
    "        count += 1\n",
    "print(count)"
   ]
  },
  {
   "cell_type": "code",
   "execution_count": 4,
   "metadata": {},
   "outputs": [],
   "source": [
    "for i in range(description.shape[0]):\n",
    "    if '\"\"' in description[\"Description\"][i]:\n",
    "        description[\"Description\"][i] = description[\"Description\"][i].replace('\"\"', \"\")\n",
    "        description[\"Description\"][i] = description[\"Description\"][i].replace(\"  \", \"\")\n",
    "        description[\"Description\"][i] = description[\"Description\"][i].replace('\"', \"\")"
   ]
  },
  {
   "cell_type": "code",
   "execution_count": 5,
   "metadata": {},
   "outputs": [
    {
     "data": {
      "text/plain": [
       "0     Digital art \"Scene: A university convocation c...\n",
       "1     Digital art A group of people, including a pre...\n",
       "2     Digital art Scene: A laboratory or research fa...\n",
       "3     Digital art \"A young woman in a lab coat smile...\n",
       "4     Digital art A young woman stands confidently i...\n",
       "5     Digital art \"Scene: A president giving a speec...\n",
       "6     Digital art \"A woman in a traditional Indian o...\n",
       "7     Digital art Scene: A group of people in a labo...\n",
       "8     Digital art \"A woman in a lab coat gestures en...\n",
       "9     Digital art Rough Scene Description: A group o...\n",
       "10    Digital art \"A determined woman in her mid-30s...\n",
       "11         Digital art Object: A person (Guru Ghasidas)\n",
       "12    Digital art \"An old man standing in front of a...\n",
       "13    Digital art \"A young woman stands confidently ...\n",
       "14    Digital art Scene: A university campus in Indi...\n",
       "15    Digital art A group of students learning about...\n",
       "16    Digital art \"A man wearing a suit and tie stan...\n",
       "17    Digital art \"A person (male) is standing in fr...\n",
       "18    Digital art Scene: A university convocation ce...\n",
       "19    Digital art A group of people gathered around ...\n",
       "20    Digital art Scene: A laboratory or research fa...\n",
       "21    Digital art \"A woman in a lab coat smiles as s...\n",
       "22    Digital art \"A young woman stands confidently ...\n",
       "23    Digital art Create an image of a confident and...\n",
       "24    Digital art A woman dressed in traditional att...\n",
       "25    Digital art Rough Scene Description: A group o...\n",
       "26    Digital art \"A woman in a lab coat holds up a ...\n",
       "27    Digital art A group of diverse students, inclu...\n",
       "28    Digital art A young woman in a professional se...\n",
       "29    Digital art \"A group of people of various gend...\n",
       "30    Digital art \"An elderly man from 250 years ago...\n",
       "31    Digital art \"A young woman stands confidently ...\n",
       "32    Digital art Roughly 10-20 people, including so...\n",
       "33    Digital art Roughly depict a scene with a grou...\n",
       "34    Digital art \"Scene: A large conference hall wi...\n",
       "35    Digital art \"A young woman in a vibrant yellow...\n",
       "Name: Description, dtype: object"
      ]
     },
     "execution_count": 5,
     "metadata": {},
     "output_type": "execute_result"
    }
   ],
   "source": [
    "description[\"Description\"]"
   ]
  },
  {
   "cell_type": "code",
   "execution_count": 6,
   "metadata": {},
   "outputs": [
    {
     "name": "stdout",
     "output_type": "stream",
     "text": [
      "0\n"
     ]
    }
   ],
   "source": [
    "count = 0\n",
    "for i in range(description.shape[0]):\n",
    "    if len(description[\"Description\"][i].split()) > 77:\n",
    "        description[\"Description\"][i] = description[\"Description\"][i][0:77]\n",
    "print(count)"
   ]
  },
  {
   "cell_type": "code",
   "execution_count": 7,
   "metadata": {},
   "outputs": [
    {
     "name": "stdout",
     "output_type": "stream",
     "text": [
      "36\n"
     ]
    }
   ],
   "source": [
    "count = 0\n",
    "for i in range(description.shape[0]):\n",
    "    if len(description[\"Description\"][i].split()) <= 77:\n",
    "        count += 1\n",
    "print(count)"
   ]
  },
  {
   "cell_type": "code",
   "execution_count": 10,
   "metadata": {},
   "outputs": [],
   "source": [
    "description.to_csv(\"./descriptions.csv\", index=False)"
   ]
  }
 ],
 "metadata": {
  "kernelspec": {
   "display_name": "Python 3",
   "language": "python",
   "name": "python3"
  },
  "language_info": {
   "codemirror_mode": {
    "name": "ipython",
    "version": 3
   },
   "file_extension": ".py",
   "mimetype": "text/x-python",
   "name": "python",
   "nbconvert_exporter": "python",
   "pygments_lexer": "ipython3",
   "version": "3.11.4"
  },
  "orig_nbformat": 4
 },
 "nbformat": 4,
 "nbformat_minor": 2
}
