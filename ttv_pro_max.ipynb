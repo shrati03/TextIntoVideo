{
  "nbformat": 4,
  "nbformat_minor": 0,
  "metadata": {
    "colab": {
      "provenance": [],
      "gpuType": "T4"
    },
    "kernelspec": {
      "name": "python3",
      "display_name": "Python 3"
    },
    "language_info": {
      "name": "python"
    },
    "accelerator": "GPU"
  },
  "cells": [
    {
      "cell_type": "code",
      "source": [
        "!mkdir Frames"
      ],
      "metadata": {
        "id": "DBiAv1yeO0PF"
      },
      "execution_count": 1,
      "outputs": []
    },
    {
      "cell_type": "code",
      "source": [
        "!pip install keras_cv"
      ],
      "metadata": {
        "colab": {
          "base_uri": "https://localhost:8080/"
        },
        "id": "I-skYcM2UBh8",
        "outputId": "1b75dd85-4c4b-4858-e9c3-4f65ea9b7420"
      },
      "execution_count": 2,
      "outputs": [
        {
          "output_type": "stream",
          "name": "stdout",
          "text": [
            "Collecting keras_cv\n",
            "  Downloading keras_cv-0.6.3-py3-none-any.whl (803 kB)\n",
            "\u001b[2K     \u001b[90m━━━━━━━━━━━━━━━━━━━━━━━━━━━━━━━━━━━━━━━\u001b[0m \u001b[32m803.1/803.1 kB\u001b[0m \u001b[31m7.9 MB/s\u001b[0m eta \u001b[36m0:00:00\u001b[0m\n",
            "\u001b[?25hRequirement already satisfied: packaging in /usr/local/lib/python3.10/dist-packages (from keras_cv) (23.1)\n",
            "Requirement already satisfied: absl-py in /usr/local/lib/python3.10/dist-packages (from keras_cv) (1.4.0)\n",
            "Requirement already satisfied: regex in /usr/local/lib/python3.10/dist-packages (from keras_cv) (2023.6.3)\n",
            "Requirement already satisfied: tensorflow-datasets in /usr/local/lib/python3.10/dist-packages (from keras_cv) (4.9.2)\n",
            "Collecting keras-core (from keras_cv)\n",
            "  Downloading keras_core-0.1.5-py3-none-any.whl (924 kB)\n",
            "\u001b[2K     \u001b[90m━━━━━━━━━━━━━━━━━━━━━━━━━━━━━━━━━━━━━━\u001b[0m \u001b[32m924.6/924.6 kB\u001b[0m \u001b[31m13.5 MB/s\u001b[0m eta \u001b[36m0:00:00\u001b[0m\n",
            "\u001b[?25hRequirement already satisfied: numpy in /usr/local/lib/python3.10/dist-packages (from keras-core->keras_cv) (1.23.5)\n",
            "Requirement already satisfied: rich in /usr/local/lib/python3.10/dist-packages (from keras-core->keras_cv) (13.5.2)\n",
            "Collecting namex (from keras-core->keras_cv)\n",
            "  Downloading namex-0.0.7-py3-none-any.whl (5.8 kB)\n",
            "Requirement already satisfied: h5py in /usr/local/lib/python3.10/dist-packages (from keras-core->keras_cv) (3.9.0)\n",
            "Requirement already satisfied: dm-tree in /usr/local/lib/python3.10/dist-packages (from keras-core->keras_cv) (0.1.8)\n",
            "Requirement already satisfied: array-record in /usr/local/lib/python3.10/dist-packages (from tensorflow-datasets->keras_cv) (0.4.1)\n",
            "Requirement already satisfied: click in /usr/local/lib/python3.10/dist-packages (from tensorflow-datasets->keras_cv) (8.1.7)\n",
            "Requirement already satisfied: etils[enp,epath]>=0.9.0 in /usr/local/lib/python3.10/dist-packages (from tensorflow-datasets->keras_cv) (1.4.1)\n",
            "Requirement already satisfied: promise in /usr/local/lib/python3.10/dist-packages (from tensorflow-datasets->keras_cv) (2.3)\n",
            "Requirement already satisfied: protobuf>=3.20 in /usr/local/lib/python3.10/dist-packages (from tensorflow-datasets->keras_cv) (3.20.3)\n",
            "Requirement already satisfied: psutil in /usr/local/lib/python3.10/dist-packages (from tensorflow-datasets->keras_cv) (5.9.5)\n",
            "Requirement already satisfied: requests>=2.19.0 in /usr/local/lib/python3.10/dist-packages (from tensorflow-datasets->keras_cv) (2.31.0)\n",
            "Requirement already satisfied: tensorflow-metadata in /usr/local/lib/python3.10/dist-packages (from tensorflow-datasets->keras_cv) (1.14.0)\n",
            "Requirement already satisfied: termcolor in /usr/local/lib/python3.10/dist-packages (from tensorflow-datasets->keras_cv) (2.3.0)\n",
            "Requirement already satisfied: toml in /usr/local/lib/python3.10/dist-packages (from tensorflow-datasets->keras_cv) (0.10.2)\n",
            "Requirement already satisfied: tqdm in /usr/local/lib/python3.10/dist-packages (from tensorflow-datasets->keras_cv) (4.66.1)\n",
            "Requirement already satisfied: wrapt in /usr/local/lib/python3.10/dist-packages (from tensorflow-datasets->keras_cv) (1.15.0)\n",
            "Requirement already satisfied: importlib_resources in /usr/local/lib/python3.10/dist-packages (from etils[enp,epath]>=0.9.0->tensorflow-datasets->keras_cv) (6.0.1)\n",
            "Requirement already satisfied: typing_extensions in /usr/local/lib/python3.10/dist-packages (from etils[enp,epath]>=0.9.0->tensorflow-datasets->keras_cv) (4.5.0)\n",
            "Requirement already satisfied: zipp in /usr/local/lib/python3.10/dist-packages (from etils[enp,epath]>=0.9.0->tensorflow-datasets->keras_cv) (3.16.2)\n",
            "Requirement already satisfied: charset-normalizer<4,>=2 in /usr/local/lib/python3.10/dist-packages (from requests>=2.19.0->tensorflow-datasets->keras_cv) (3.2.0)\n",
            "Requirement already satisfied: idna<4,>=2.5 in /usr/local/lib/python3.10/dist-packages (from requests>=2.19.0->tensorflow-datasets->keras_cv) (3.4)\n",
            "Requirement already satisfied: urllib3<3,>=1.21.1 in /usr/local/lib/python3.10/dist-packages (from requests>=2.19.0->tensorflow-datasets->keras_cv) (2.0.4)\n",
            "Requirement already satisfied: certifi>=2017.4.17 in /usr/local/lib/python3.10/dist-packages (from requests>=2.19.0->tensorflow-datasets->keras_cv) (2023.7.22)\n",
            "Requirement already satisfied: six in /usr/local/lib/python3.10/dist-packages (from promise->tensorflow-datasets->keras_cv) (1.16.0)\n",
            "Requirement already satisfied: markdown-it-py>=2.2.0 in /usr/local/lib/python3.10/dist-packages (from rich->keras-core->keras_cv) (3.0.0)\n",
            "Requirement already satisfied: pygments<3.0.0,>=2.13.0 in /usr/local/lib/python3.10/dist-packages (from rich->keras-core->keras_cv) (2.16.1)\n",
            "Requirement already satisfied: googleapis-common-protos<2,>=1.52.0 in /usr/local/lib/python3.10/dist-packages (from tensorflow-metadata->tensorflow-datasets->keras_cv) (1.60.0)\n",
            "Requirement already satisfied: mdurl~=0.1 in /usr/local/lib/python3.10/dist-packages (from markdown-it-py>=2.2.0->rich->keras-core->keras_cv) (0.1.2)\n",
            "Installing collected packages: namex, keras-core, keras_cv\n",
            "Successfully installed keras-core-0.1.5 keras_cv-0.6.3 namex-0.0.7\n"
          ]
        }
      ]
    },
    {
      "cell_type": "code",
      "source": [
        "!pip install keras_core"
      ],
      "metadata": {
        "colab": {
          "base_uri": "https://localhost:8080/"
        },
        "id": "_Q1d3SzyULHy",
        "outputId": "0d3c7987-5041-485e-a627-cd7a3a80185e"
      },
      "execution_count": 3,
      "outputs": [
        {
          "output_type": "stream",
          "name": "stdout",
          "text": [
            "Requirement already satisfied: keras_core in /usr/local/lib/python3.10/dist-packages (0.1.5)\n",
            "Requirement already satisfied: absl-py in /usr/local/lib/python3.10/dist-packages (from keras_core) (1.4.0)\n",
            "Requirement already satisfied: numpy in /usr/local/lib/python3.10/dist-packages (from keras_core) (1.23.5)\n",
            "Requirement already satisfied: rich in /usr/local/lib/python3.10/dist-packages (from keras_core) (13.5.2)\n",
            "Requirement already satisfied: namex in /usr/local/lib/python3.10/dist-packages (from keras_core) (0.0.7)\n",
            "Requirement already satisfied: h5py in /usr/local/lib/python3.10/dist-packages (from keras_core) (3.9.0)\n",
            "Requirement already satisfied: dm-tree in /usr/local/lib/python3.10/dist-packages (from keras_core) (0.1.8)\n",
            "Requirement already satisfied: markdown-it-py>=2.2.0 in /usr/local/lib/python3.10/dist-packages (from rich->keras_core) (3.0.0)\n",
            "Requirement already satisfied: pygments<3.0.0,>=2.13.0 in /usr/local/lib/python3.10/dist-packages (from rich->keras_core) (2.16.1)\n",
            "Requirement already satisfied: mdurl~=0.1 in /usr/local/lib/python3.10/dist-packages (from markdown-it-py>=2.2.0->rich->keras_core) (0.1.2)\n"
          ]
        }
      ]
    },
    {
      "cell_type": "code",
      "source": [
        "from tensorflow import keras\n",
        "from keras_cv.models import StableDiffusion\n",
        "from PIL import Image\n",
        "import time"
      ],
      "metadata": {
        "colab": {
          "base_uri": "https://localhost:8080/"
        },
        "id": "rI-DvSZWRQws",
        "outputId": "d20b8f97-4741-4514-8e7b-ce0c52d6fae2"
      },
      "execution_count": 4,
      "outputs": [
        {
          "output_type": "stream",
          "name": "stdout",
          "text": [
            "Using TensorFlow backend\n"
          ]
        }
      ]
    },
    {
      "cell_type": "code",
      "source": [
        "import pandas as pd\n",
        "prompts = pd.read_csv(\"./Prompts.csv\")"
      ],
      "metadata": {
        "id": "3ja9dBRwVDzb"
      },
      "execution_count": 5,
      "outputs": []
    },
    {
      "cell_type": "code",
      "source": [
        "keras.mixed_precision.set_global_policy(\"float32\")\n",
        "model = StableDiffusion(img_height=512, img_width=512, jit_compile=True)"
      ],
      "metadata": {
        "colab": {
          "base_uri": "https://localhost:8080/"
        },
        "id": "ToBHV2unS9FR",
        "outputId": "d3467e17-51b0-4202-d545-06c262c5a2ad"
      },
      "execution_count": 6,
      "outputs": [
        {
          "output_type": "stream",
          "name": "stdout",
          "text": [
            "By using this model checkpoint, you acknowledge that its usage is subject to the terms of the CreativeML Open RAIL-M license at https://raw.githubusercontent.com/CompVis/stable-diffusion/main/LICENSE\n"
          ]
        }
      ]
    },
    {
      "cell_type": "code",
      "source": [
        "for i in range(prompts.shape[0]):\n",
        "    img = model.text_to_image(\n",
        "        prompt=prompts['Prompt'][i],\n",
        "        negative_prompt=\"ugly, bad anatomy, bad illustration, blank background, blurry, cropped, deformed, distorted, extra limbs, fault, flaw, fused fingers, grotesque, incorrect physiology, indistinct, mutilated, off-screen, out of frame, pixelated, poorly drawn, short, split image, unfocused, unsightly, amputee\",\n",
        "        batch_size=1,\n",
        "        num_steps=50,\n",
        "        seed=i\n",
        "    )\n",
        "    Image.fromarray(img[0]).save(f\"/content/Frames/{i+1}_0.png\")"
      ],
      "metadata": {
        "colab": {
          "base_uri": "https://localhost:8080/"
        },
        "id": "zj1gM_xHWq5i",
        "outputId": "5049250b-3970-434c-ddd9-548012e3c147"
      },
      "execution_count": 7,
      "outputs": [
        {
          "output_type": "stream",
          "name": "stdout",
          "text": [
            "Downloading data from https://github.com/openai/CLIP/blob/main/clip/bpe_simple_vocab_16e6.txt.gz?raw=true\n",
            "1356917/1356917 [==============================] - 0s 0us/step\n",
            "Downloading data from https://huggingface.co/fchollet/stable-diffusion/resolve/main/kcv_encoder.h5\n",
            "492466864/492466864 [==============================] - 7s 0us/step\n",
            "Downloading data from https://huggingface.co/fchollet/stable-diffusion/resolve/main/kcv_diffusion_model.h5\n",
            "3439090152/3439090152 [==============================] - 16s 0us/step\n",
            "50/50 [==============================] - 135s 627ms/step\n",
            "Downloading data from https://huggingface.co/fchollet/stable-diffusion/resolve/main/kcv_decoder.h5\n",
            "198180272/198180272 [==============================] - 2s 0us/step\n",
            "50/50 [==============================] - 35s 691ms/step\n",
            "50/50 [==============================] - 36s 711ms/step\n",
            "50/50 [==============================] - 36s 714ms/step\n",
            "50/50 [==============================] - 38s 756ms/step\n",
            "50/50 [==============================] - 38s 758ms/step\n",
            "50/50 [==============================] - 37s 748ms/step\n",
            "50/50 [==============================] - 39s 783ms/step\n",
            "50/50 [==============================] - 38s 767ms/step\n",
            "50/50 [==============================] - 38s 766ms/step\n",
            "50/50 [==============================] - 38s 770ms/step\n",
            "50/50 [==============================] - 41s 817ms/step\n",
            "50/50 [==============================] - 41s 812ms/step\n",
            "50/50 [==============================] - 39s 782ms/step\n",
            "50/50 [==============================] - 39s 782ms/step\n",
            "50/50 [==============================] - 39s 775ms/step\n",
            "50/50 [==============================] - 39s 788ms/step\n",
            "50/50 [==============================] - 38s 767ms/step\n",
            "50/50 [==============================] - 39s 781ms/step\n",
            "50/50 [==============================] - 39s 777ms/step\n"
          ]
        }
      ]
    },
    {
      "cell_type": "code",
      "source": [
        "directions = ['moving left', 'moving right', 'moving up', 'moving down', 'moving forward', 'moving backward', 'moving up-left', 'moving up-right', 'moving down-left', 'moving down-right', 'moving left-left', 'moving right-right' ]"
      ],
      "metadata": {
        "id": "H7w8p9QkoOxG"
      },
      "execution_count": 8,
      "outputs": []
    },
    {
      "cell_type": "code",
      "source": [
        "new_prompts = []"
      ],
      "metadata": {
        "id": "PRqO9j73tdjR"
      },
      "execution_count": 9,
      "outputs": []
    },
    {
      "cell_type": "code",
      "source": [
        "from random import randint\n",
        "for i in range(prompts.shape[0]):\n",
        "    temp_prompt = []\n",
        "    for j in range(len(directions)):\n",
        "        temp_prompt.append(prompts['Prompt'][i]+ \", \" + directions[j] + \", motion picture\")\n",
        "    new_prompts.append(temp_prompt)"
      ],
      "metadata": {
        "id": "32n52JhNeHHj"
      },
      "execution_count": 10,
      "outputs": []
    },
    {
      "cell_type": "code",
      "source": [
        "count = 0\n",
        "for i in new_prompts:\n",
        "    for j in i:\n",
        "        count += 1\n",
        "count"
      ],
      "metadata": {
        "colab": {
          "base_uri": "https://localhost:8080/"
        },
        "id": "e38rtZR1gz3e",
        "outputId": "06dec6c7-9809-4195-8796-415d8a8c1efa"
      },
      "execution_count": 11,
      "outputs": [
        {
          "output_type": "execute_result",
          "data": {
            "text/plain": [
              "240"
            ]
          },
          "metadata": {},
          "execution_count": 11
        }
      ]
    },
    {
      "cell_type": "code",
      "source": [
        "seed = 0\n",
        "img_list = []\n",
        "for i in range(len(new_prompts)):\n",
        "    j = len(new_prompts[i])\n",
        "    for k in range(j):\n",
        "        img = model.text_to_image(\n",
        "            prompt=new_prompts[i][k],\n",
        "            negative_prompt=\"ugly, bad anatomy, bad illustration, blank background, blurry, cropped, deformed, distorted, extra limbs, fault, flaw, fused fingers, grotesque, incorrect physiology, indistinct, mutilated, off-screen, out of frame, pixelated, poorly drawn, short, split image, unfocused, unsightly, amputee\",\n",
        "            batch_size=1,\n",
        "            num_steps=50,\n",
        "            seed=seed,\n",
        "        )\n",
        "        Image.fromarray(img[0]).save(f\"/content/Frames/{i+1}_{k+1}.png\")\n",
        "    seed += 1"
      ],
      "metadata": {
        "colab": {
          "base_uri": "https://localhost:8080/"
        },
        "id": "7p24Bg4mRcLA",
        "outputId": "1d824ff0-25b0-473b-b6f6-3d5d16c36f26"
      },
      "execution_count": 12,
      "outputs": [
        {
          "output_type": "stream",
          "name": "stdout",
          "text": [
            "50/50 [==============================] - 40s 795ms/step\n",
            "50/50 [==============================] - 40s 795ms/step\n",
            "50/50 [==============================] - 39s 784ms/step\n",
            "50/50 [==============================] - 40s 783ms/step\n",
            "50/50 [==============================] - 40s 795ms/step\n",
            "50/50 [==============================] - 38s 761ms/step\n",
            "50/50 [==============================] - 39s 777ms/step\n",
            "50/50 [==============================] - 39s 776ms/step\n",
            "50/50 [==============================] - 39s 790ms/step\n",
            "50/50 [==============================] - 39s 785ms/step\n",
            "50/50 [==============================] - 39s 780ms/step\n",
            "50/50 [==============================] - 39s 782ms/step\n",
            "50/50 [==============================] - 41s 804ms/step\n",
            "50/50 [==============================] - 39s 774ms/step\n",
            "50/50 [==============================] - 39s 775ms/step\n",
            "50/50 [==============================] - 39s 774ms/step\n",
            "50/50 [==============================] - 39s 788ms/step\n",
            "50/50 [==============================] - 39s 784ms/step\n",
            "50/50 [==============================] - 39s 778ms/step\n",
            "50/50 [==============================] - 38s 771ms/step\n",
            "50/50 [==============================] - 39s 783ms/step\n",
            "50/50 [==============================] - 40s 787ms/step\n",
            "50/50 [==============================] - 39s 766ms/step\n",
            "50/50 [==============================] - 39s 778ms/step\n",
            "50/50 [==============================] - 39s 777ms/step\n",
            "50/50 [==============================] - 40s 799ms/step\n",
            "50/50 [==============================] - 39s 775ms/step\n",
            "50/50 [==============================] - 39s 775ms/step\n",
            "50/50 [==============================] - 40s 798ms/step\n",
            "50/50 [==============================] - 39s 781ms/step\n",
            "50/50 [==============================] - 38s 765ms/step\n",
            "50/50 [==============================] - 39s 774ms/step\n",
            "50/50 [==============================] - 40s 798ms/step\n",
            "50/50 [==============================] - 39s 791ms/step\n",
            "50/50 [==============================] - 38s 766ms/step\n",
            "50/50 [==============================] - 39s 788ms/step\n",
            "50/50 [==============================] - 39s 779ms/step\n",
            "50/50 [==============================] - 39s 782ms/step\n",
            "50/50 [==============================] - 38s 771ms/step\n",
            "50/50 [==============================] - 39s 784ms/step\n",
            "50/50 [==============================] - 39s 774ms/step\n",
            "50/50 [==============================] - 41s 811ms/step\n",
            "50/50 [==============================] - 39s 790ms/step\n",
            "50/50 [==============================] - 39s 775ms/step\n",
            "50/50 [==============================] - 39s 779ms/step\n",
            "50/50 [==============================] - 39s 783ms/step\n",
            "50/50 [==============================] - 39s 773ms/step\n",
            "50/50 [==============================] - 39s 788ms/step\n",
            "50/50 [==============================] - 40s 806ms/step\n",
            "50/50 [==============================] - 41s 807ms/step\n",
            "50/50 [==============================] - 39s 776ms/step\n",
            "50/50 [==============================] - 38s 771ms/step\n",
            "50/50 [==============================] - 40s 799ms/step\n",
            "50/50 [==============================] - 39s 791ms/step\n",
            "50/50 [==============================] - 39s 787ms/step\n",
            "50/50 [==============================] - 40s 793ms/step\n",
            "50/50 [==============================] - 39s 774ms/step\n",
            "50/50 [==============================] - 40s 795ms/step\n",
            "50/50 [==============================] - 39s 767ms/step\n",
            "50/50 [==============================] - 40s 789ms/step\n",
            "50/50 [==============================] - 39s 773ms/step\n",
            "50/50 [==============================] - 40s 796ms/step\n",
            "50/50 [==============================] - 39s 779ms/step\n",
            "50/50 [==============================] - 38s 761ms/step\n",
            "50/50 [==============================] - 40s 795ms/step\n",
            "50/50 [==============================] - 40s 805ms/step\n",
            "50/50 [==============================] - 39s 777ms/step\n",
            "50/50 [==============================] - 39s 777ms/step\n",
            "50/50 [==============================] - 39s 778ms/step\n",
            "50/50 [==============================] - 39s 772ms/step\n",
            "50/50 [==============================] - 39s 782ms/step\n",
            "50/50 [==============================] - 39s 777ms/step\n",
            "50/50 [==============================] - 40s 790ms/step\n",
            "50/50 [==============================] - 39s 773ms/step\n",
            "50/50 [==============================] - 39s 790ms/step\n",
            "50/50 [==============================] - 40s 794ms/step\n",
            "50/50 [==============================] - 39s 782ms/step\n",
            "50/50 [==============================] - 39s 774ms/step\n",
            "50/50 [==============================] - 39s 790ms/step\n",
            "50/50 [==============================] - 39s 782ms/step\n",
            "50/50 [==============================] - 39s 785ms/step\n",
            "50/50 [==============================] - 39s 769ms/step\n",
            "50/50 [==============================] - 40s 794ms/step\n",
            "50/50 [==============================] - 39s 788ms/step\n",
            "50/50 [==============================] - 39s 780ms/step\n",
            "50/50 [==============================] - 39s 777ms/step\n",
            "50/50 [==============================] - 40s 799ms/step\n",
            "50/50 [==============================] - 39s 785ms/step\n",
            "50/50 [==============================] - 39s 780ms/step\n",
            "50/50 [==============================] - 39s 773ms/step\n",
            "50/50 [==============================] - 41s 819ms/step\n",
            "50/50 [==============================] - 40s 800ms/step\n",
            "50/50 [==============================] - 39s 778ms/step\n",
            "50/50 [==============================] - 39s 785ms/step\n",
            "50/50 [==============================] - 40s 800ms/step\n",
            "50/50 [==============================] - 39s 777ms/step\n",
            "50/50 [==============================] - 39s 784ms/step\n",
            "50/50 [==============================] - 39s 777ms/step\n",
            "50/50 [==============================] - 40s 799ms/step\n",
            "50/50 [==============================] - 40s 791ms/step\n",
            "50/50 [==============================] - 40s 793ms/step\n",
            "50/50 [==============================] - 40s 795ms/step\n",
            "50/50 [==============================] - 39s 784ms/step\n",
            "50/50 [==============================] - 39s 778ms/step\n",
            "50/50 [==============================] - 39s 775ms/step\n",
            "50/50 [==============================] - 39s 772ms/step\n",
            "50/50 [==============================] - 40s 790ms/step\n",
            "50/50 [==============================] - 40s 795ms/step\n",
            "50/50 [==============================] - 39s 787ms/step\n",
            "50/50 [==============================] - 40s 794ms/step\n",
            "50/50 [==============================] - 39s 788ms/step\n",
            "50/50 [==============================] - 41s 827ms/step\n",
            "50/50 [==============================] - 39s 771ms/step\n",
            "50/50 [==============================] - 40s 790ms/step\n",
            "50/50 [==============================] - 40s 792ms/step\n",
            "50/50 [==============================] - 40s 805ms/step\n",
            "50/50 [==============================] - 39s 791ms/step\n",
            "50/50 [==============================] - 39s 781ms/step\n",
            "50/50 [==============================] - 39s 779ms/step\n",
            "50/50 [==============================] - 40s 802ms/step\n",
            "50/50 [==============================] - 39s 770ms/step\n",
            "50/50 [==============================] - 39s 773ms/step\n",
            "50/50 [==============================] - 40s 793ms/step\n",
            "50/50 [==============================] - 39s 774ms/step\n",
            "50/50 [==============================] - 40s 796ms/step\n",
            "50/50 [==============================] - 38s 756ms/step\n",
            "50/50 [==============================] - 38s 766ms/step\n",
            "50/50 [==============================] - 38s 753ms/step\n",
            "50/50 [==============================] - 39s 780ms/step\n",
            "50/50 [==============================] - 39s 783ms/step\n",
            "50/50 [==============================] - 40s 794ms/step\n",
            "50/50 [==============================] - 38s 754ms/step\n",
            "50/50 [==============================] - 40s 790ms/step\n",
            "50/50 [==============================] - 38s 754ms/step\n",
            "50/50 [==============================] - 39s 781ms/step\n",
            "50/50 [==============================] - 39s 777ms/step\n",
            "50/50 [==============================] - 40s 794ms/step\n",
            "50/50 [==============================] - 38s 771ms/step\n",
            "50/50 [==============================] - 39s 774ms/step\n",
            "50/50 [==============================] - 40s 797ms/step\n",
            "50/50 [==============================] - 39s 783ms/step\n",
            "50/50 [==============================] - 38s 764ms/step\n",
            "50/50 [==============================] - 38s 764ms/step\n",
            "50/50 [==============================] - 39s 784ms/step\n",
            "50/50 [==============================] - 39s 784ms/step\n",
            "50/50 [==============================] - 39s 777ms/step\n",
            "50/50 [==============================] - 40s 802ms/step\n",
            "50/50 [==============================] - 40s 794ms/step\n",
            "50/50 [==============================] - 39s 776ms/step\n",
            "50/50 [==============================] - 39s 776ms/step\n",
            "50/50 [==============================] - 39s 771ms/step\n",
            "50/50 [==============================] - 40s 794ms/step\n",
            "50/50 [==============================] - 39s 789ms/step\n",
            "50/50 [==============================] - 38s 767ms/step\n",
            "50/50 [==============================] - 38s 763ms/step\n",
            "50/50 [==============================] - 39s 780ms/step\n",
            "50/50 [==============================] - 39s 782ms/step\n",
            "50/50 [==============================] - 39s 779ms/step\n",
            "50/50 [==============================] - 39s 776ms/step\n",
            "50/50 [==============================] - 38s 769ms/step\n",
            "50/50 [==============================] - 39s 785ms/step\n",
            "50/50 [==============================] - 40s 794ms/step\n",
            "50/50 [==============================] - 38s 771ms/step\n",
            "50/50 [==============================] - 39s 777ms/step\n",
            "50/50 [==============================] - 40s 794ms/step\n",
            "50/50 [==============================] - 39s 776ms/step\n",
            "50/50 [==============================] - 39s 778ms/step\n",
            "50/50 [==============================] - 39s 786ms/step\n",
            "50/50 [==============================] - 40s 797ms/step\n",
            "50/50 [==============================] - 38s 771ms/step\n",
            "50/50 [==============================] - 38s 770ms/step\n",
            "50/50 [==============================] - 39s 765ms/step\n",
            "50/50 [==============================] - 39s 789ms/step\n",
            "50/50 [==============================] - 39s 783ms/step\n",
            "50/50 [==============================] - 38s 766ms/step\n",
            "50/50 [==============================] - 38s 763ms/step\n",
            "50/50 [==============================] - 39s 779ms/step\n",
            "50/50 [==============================] - 38s 771ms/step\n",
            "50/50 [==============================] - 38s 767ms/step\n",
            "50/50 [==============================] - 39s 775ms/step\n",
            "50/50 [==============================] - 39s 782ms/step\n",
            "50/50 [==============================] - 39s 789ms/step\n",
            "50/50 [==============================] - 38s 771ms/step\n",
            "50/50 [==============================] - 39s 776ms/step\n",
            "50/50 [==============================] - 39s 765ms/step\n",
            "50/50 [==============================] - 38s 769ms/step\n",
            "50/50 [==============================] - 40s 791ms/step\n",
            "50/50 [==============================] - 39s 776ms/step\n",
            "50/50 [==============================] - 38s 771ms/step\n",
            "50/50 [==============================] - 40s 793ms/step\n",
            "50/50 [==============================] - 38s 769ms/step\n",
            "50/50 [==============================] - 38s 771ms/step\n",
            "50/50 [==============================] - 40s 801ms/step\n",
            "50/50 [==============================] - 41s 811ms/step\n",
            "50/50 [==============================] - 41s 814ms/step\n",
            "50/50 [==============================] - 38s 768ms/step\n",
            "50/50 [==============================] - 38s 767ms/step\n",
            "50/50 [==============================] - 38s 766ms/step\n",
            "50/50 [==============================] - 38s 766ms/step\n",
            "50/50 [==============================] - 40s 799ms/step\n",
            "50/50 [==============================] - 38s 770ms/step\n",
            "50/50 [==============================] - 39s 778ms/step\n",
            "50/50 [==============================] - 40s 795ms/step\n",
            "50/50 [==============================] - 40s 797ms/step\n",
            "50/50 [==============================] - 40s 792ms/step\n",
            "50/50 [==============================] - 39s 781ms/step\n",
            "50/50 [==============================] - 39s 772ms/step\n",
            "50/50 [==============================] - 38s 764ms/step\n",
            "50/50 [==============================] - 38s 764ms/step\n",
            "50/50 [==============================] - 40s 799ms/step\n",
            "50/50 [==============================] - 40s 800ms/step\n",
            "50/50 [==============================] - 39s 773ms/step\n",
            "50/50 [==============================] - 40s 791ms/step\n",
            "50/50 [==============================] - 40s 788ms/step\n",
            "50/50 [==============================] - 39s 790ms/step\n",
            "50/50 [==============================] - 38s 761ms/step\n",
            "50/50 [==============================] - 38s 765ms/step\n",
            "50/50 [==============================] - 41s 817ms/step\n",
            "50/50 [==============================] - 39s 784ms/step\n",
            "50/50 [==============================] - 39s 782ms/step\n",
            "50/50 [==============================] - 39s 785ms/step\n",
            "50/50 [==============================] - 39s 783ms/step\n",
            "50/50 [==============================] - 40s 806ms/step\n",
            "50/50 [==============================] - 40s 791ms/step\n",
            "50/50 [==============================] - 39s 776ms/step\n",
            "50/50 [==============================] - 39s 777ms/step\n",
            "50/50 [==============================] - 43s 865ms/step\n",
            "50/50 [==============================] - 42s 845ms/step\n",
            "50/50 [==============================] - 39s 789ms/step\n",
            "50/50 [==============================] - 39s 785ms/step\n",
            "50/50 [==============================] - 39s 773ms/step\n",
            "50/50 [==============================] - 39s 771ms/step\n",
            "50/50 [==============================] - 39s 760ms/step\n",
            "50/50 [==============================] - 42s 835ms/step\n",
            "50/50 [==============================] - 39s 778ms/step\n",
            "50/50 [==============================] - 38s 764ms/step\n",
            "50/50 [==============================] - 38s 764ms/step\n",
            "50/50 [==============================] - 39s 785ms/step\n",
            "50/50 [==============================] - 39s 779ms/step\n",
            "50/50 [==============================] - 39s 792ms/step\n"
          ]
        }
      ]
    }
  ]
}