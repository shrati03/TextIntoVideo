{
 "cells": [
  {
   "cell_type": "code",
   "execution_count": 1,
   "metadata": {},
   "outputs": [],
   "source": [
    "import requests\n",
    "import json\n",
    "import time\n",
    "import pandas as pd\n",
    "import os\n",
    "\n",
    "prompts = pd.read_csv(\"./descriptions.csv\")\n",
    "response_list = []"
   ]
  },
  {
   "cell_type": "code",
   "execution_count": 2,
   "metadata": {},
   "outputs": [],
   "source": [
    "def get_response_later(response_list, response_id, count):\n",
    "    url = \"https://stablediffusionapi.com/api/v4/dreambooth/fetch\"\n",
    "\n",
    "    payload = json.dumps(\n",
    "        {\n",
    "            \"key\": \"edummmLC3ZY0yXK2tF80XkJ1o7OyXCXAs2xVuG1lonOaGeqqATiLcMncjHTh\",\n",
    "            \"request_id\": response_id,\n",
    "        }\n",
    "    )\n",
    "\n",
    "    headers = {\"Content-Type\": \"application/json\"}\n",
    "\n",
    "    response = requests.request(\"POST\", url, headers=headers, data=payload)\n",
    "    response_list.append(response)\n",
    "    # print(count, response.json()[\"output\"][0])"
   ]
  },
  {
   "cell_type": "code",
   "execution_count": 3,
   "metadata": {},
   "outputs": [
    {
     "name": "stdout",
     "output_type": "stream",
     "text": [
      "1 https://cdn2.stablediffusionapi.com/generations/582de988-262e-4f0f-93d9-4bef34189d9d-0.png\n",
      "2 https://cdn2.stablediffusionapi.com/generations/abaadbba-8cc3-4d2e-9712-96fbfe8748e5-0.png\n",
      "3 https://cdn2.stablediffusionapi.com/generations/a9d683fe-b14a-4c47-9b87-eca594d1b9cc-0.png\n",
      "4 https://cdn2.stablediffusionapi.com/generations/0cec8330-660f-4807-b943-d6acde266dac-0.png\n",
      "5 https://cdn2.stablediffusionapi.com/generations/b2d85140-edfc-4e73-90af-0b15898a2ef5-0.png\n",
      "6 https://cdn2.stablediffusionapi.com/generations/fe8d571b-64db-4801-9f29-42402f42732b-0.png\n",
      "7 https://cdn2.stablediffusionapi.com/generations/d4d375a2-f44f-4196-ab2e-6c9a092d833e-0.png\n",
      "8 https://cdn2.stablediffusionapi.com/generations/58cef767-9712-4af6-85d6-3d4eaa882da5-0.png\n",
      "9 https://cdn2.stablediffusionapi.com/generations/f391576a-6544-4f85-9eb0-63e2312ade78-0.png\n",
      "10 https://cdn2.stablediffusionapi.com/generations/e292101b-8fa1-403e-ae5d-3f27cfac221c-0.png\n",
      "11 https://cdn2.stablediffusionapi.com/generations/2c4b1e46-ad47-44ee-b850-f8389d896bcf-0.png\n",
      "12 https://cdn2.stablediffusionapi.com/generations/86f05f08-d83d-4163-bf91-f0fb9bbce99f-0.png\n",
      "13 https://cdn2.stablediffusionapi.com/generations/38f10afe-b5e7-4b82-9690-ec347094fd01-0.png\n",
      "14 https://cdn2.stablediffusionapi.com/generations/814a8639-2608-4f41-9fdc-713797307479-0.png\n",
      "15 https://cdn2.stablediffusionapi.com/generations/93a48abe-6928-4c08-9ba9-6b09561bafc8-0.png\n",
      "16 https://cdn2.stablediffusionapi.com/generations/e29ec461-a2f4-4cd3-a25f-8cb5301df7db-0.png\n",
      "17 https://cdn2.stablediffusionapi.com/generations/864bb002-c304-4021-8efa-94f4228ca64a-0.png\n",
      "18 https://cdn2.stablediffusionapi.com/generations/b817c530-e8e5-4df4-b61e-097daf1caf5d-0.png\n",
      "19 https://cdn2.stablediffusionapi.com/generations/563f942d-b1e6-4536-b246-4139adbf0d2e-0.png\n",
      "20 https://cdn2.stablediffusionapi.com/generations/d74f8292-9506-44f1-8852-77b81ef5ed52-0.png\n"
     ]
    }
   ],
   "source": [
    "count = 0\n",
    "url = \"https://stablediffusionapi.com/api/v3/text2img\"\n",
    "for i in range(prompts.shape[0]):\n",
    "    payload = json.dumps(\n",
    "        {\n",
    "            \"key\": \"edummmLC3ZY0yXK2tF80XkJ1o7OyXCXAs2xVuG1lonOaGeqqATiLcMncjHTh\",\n",
    "            \"prompt\": f\"{prompts['Description'][i]}\",\n",
    "            \"negative_prompt\": None,\n",
    "            \"width\": \"512\",\n",
    "            \"height\": \"512\",\n",
    "            \"samples\": \"1\",\n",
    "            \"num_inference_steps\": \"20\",\n",
    "            \"seed\": None,\n",
    "            \"guidance_scale\": 7.5,\n",
    "            \"safety_checker\": \"yes\",\n",
    "            \"multi_lingual\": \"no\",\n",
    "            \"panorama\": \"no\",\n",
    "            \"self_attention\": \"no\",\n",
    "            \"upscale\": \"no\",\n",
    "            \"embeddings_model\": None,\n",
    "            \"webhook\": None,\n",
    "            \"track_id\": None,\n",
    "        }\n",
    "    )\n",
    "\n",
    "    headers = {\"Content-Type\": \"application/json\"}\n",
    "\n",
    "    response = requests.request(\"POST\", url, headers=headers, data=payload)\n",
    "\n",
    "    count += 1\n",
    "    try:\n",
    "        response.json()[\"output\"][0]\n",
    "        response_list.append(response)\n",
    "        print(count, (response.json()[\"output\"])[0])\n",
    "    except:\n",
    "        get_response_later(response_list, response.json()[\"id\"], count)"
   ]
  },
  {
   "cell_type": "code",
   "execution_count": 4,
   "metadata": {},
   "outputs": [
    {
     "data": {
      "text/plain": [
       "{'status': 'success',\n",
       " 'generationTime': 0.6110885143280029,\n",
       " 'id': 40296750,\n",
       " 'output': ['https://cdn2.stablediffusionapi.com/generations/b817c530-e8e5-4df4-b61e-097daf1caf5d-0.png'],\n",
       " 'meta': {'H': 512,\n",
       "  'W': 512,\n",
       "  'enable_attention_slicing': 'true',\n",
       "  'file_prefix': 'b817c530-e8e5-4df4-b61e-097daf1caf5d',\n",
       "  'guidance_scale': 7.5,\n",
       "  'model': 'runwayml/stable-diffusion-v1-5',\n",
       "  'n_samples': 1,\n",
       "  'negative_prompt': '',\n",
       "  'outdir': 'out',\n",
       "  'prompt': 'Digital art \"Indigenous People standing strong and proud, demanding recognition and protection of their rights per UN Declaration. Gender: Any. Action: Protest or demonstration. Setting: Urban or rural area.\"',\n",
       "  'revision': 'fp16',\n",
       "  'safetychecker': 'yes',\n",
       "  'seed': 2798272045,\n",
       "  'steps': 20,\n",
       "  'vae': 'stabilityai/sd-vae-ft-mse'}}"
      ]
     },
     "execution_count": 4,
     "metadata": {},
     "output_type": "execute_result"
    }
   ],
   "source": [
    "response_list[17].json()"
   ]
  },
  {
   "cell_type": "code",
   "execution_count": 6,
   "metadata": {},
   "outputs": [
    {
     "name": "stdout",
     "output_type": "stream",
     "text": [
      "Image saved to ./Frames/1.png\n",
      "Image saved to ./Frames/2.png\n",
      "Image saved to ./Frames/3.png\n",
      "Image saved to ./Frames/4.png\n",
      "Image saved to ./Frames/5.png\n",
      "Image saved to ./Frames/6.png\n",
      "Image saved to ./Frames/7.png\n",
      "Image saved to ./Frames/8.png\n",
      "Image saved to ./Frames/9.png\n",
      "Image saved to ./Frames/10.png\n",
      "Image saved to ./Frames/11.png\n",
      "Image saved to ./Frames/12.png\n",
      "Image saved to ./Frames/13.png\n",
      "Image saved to ./Frames/14.png\n",
      "Image saved to ./Frames/15.png\n",
      "Image saved to ./Frames/16.png\n",
      "Image saved to ./Frames/17.png\n",
      "Image saved to ./Frames/18.png\n",
      "Image saved to ./Frames/19.png\n",
      "Image saved to ./Frames/20.png\n"
     ]
    }
   ],
   "source": [
    "frame = 1\n",
    "for response in response_list:\n",
    "    image_url = response.json()[\"output\"][0]\n",
    "    response = requests.get(image_url)\n",
    "    if response.status_code == 200:\n",
    "        image_data = response.content\n",
    "        file_extension = os.path.splitext(image_url)[1]\n",
    "        save_path = f\"./Frames/{frame}\" + file_extension\n",
    "        with open(save_path, \"wb\") as file:\n",
    "            file.write(image_data)\n",
    "        print(f\"Image saved to {save_path}\")\n",
    "    else:\n",
    "        print(\"Failed to download the image\")\n",
    "    frame += 1"
   ]
  }
 ],
 "metadata": {
  "kernelspec": {
   "display_name": "Python 3",
   "language": "python",
   "name": "python3"
  },
  "language_info": {
   "codemirror_mode": {
    "name": "ipython",
    "version": 3
   },
   "file_extension": ".py",
   "mimetype": "text/x-python",
   "name": "python",
   "nbconvert_exporter": "python",
   "pygments_lexer": "ipython3",
   "version": "3.11.4"
  },
  "orig_nbformat": 4
 },
 "nbformat": 4,
 "nbformat_minor": 2
}
